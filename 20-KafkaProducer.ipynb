{
 "cells": [
  {
   "cell_type": "markdown",
   "metadata": {},
   "source": [
    "# Kafka Producer"
   ]
  },
  {
   "cell_type": "code",
   "execution_count": null,
   "metadata": {},
   "outputs": [],
   "source": [
    "!pip install Faker"
   ]
  },
  {
   "cell_type": "code",
   "execution_count": 1,
   "metadata": {},
   "outputs": [],
   "source": [
    "import random\n",
    "import time\n",
    "import json\n",
    "from faker import Faker\n",
    "from kafka import KafkaProducer\n",
    "from kafka.errors import KafkaError\n",
    "from IPython.display import clear_output"
   ]
  },
  {
   "cell_type": "code",
   "execution_count": 2,
   "metadata": {},
   "outputs": [],
   "source": [
    "producer = KafkaProducer(\n",
    "    bootstrap_servers=['kafka-headless.data:9092'],\n",
    "    value_serializer=lambda m: json.dumps(m).encode('utf-8')\n",
    ")"
   ]
  },
  {
   "cell_type": "markdown",
   "metadata": {},
   "source": [
    "Create 10 fake device ids."
   ]
  },
  {
   "cell_type": "code",
   "execution_count": 3,
   "metadata": {},
   "outputs": [],
   "source": [
    "fake = Faker()\n",
    "device = [fake.mac_address() for i in range(10)]"
   ]
  },
  {
   "cell_type": "markdown",
   "metadata": {},
   "source": [
    "Send 100 sets of random metrics to Kafka using the 10 fake device ids.\n",
    "Pause for 1 second between messages."
   ]
  },
  {
   "cell_type": "code",
   "execution_count": 5,
   "metadata": {},
   "outputs": [
    {
     "name": "stdout",
     "output_type": "stream",
     "text": [
      "Sent message 100: \n",
      "{\n",
      "  \"device\": \"34:d4:f3:46:a0:12\",\n",
      "  \"sensor1\": 3,\n",
      "  \"sensor2\": 3519\n",
      "}\n"
     ]
    }
   ],
   "source": [
    "for i in range(100):\n",
    "    msg = {\n",
    "        'device': device[random.randrange(1,10)],\n",
    "        'sensor1': random.randrange(1,10),\n",
    "        'sensor2': random.randrange(100,10000),\n",
    "    }\n",
    "    producer.send('metrics', msg)\n",
    "    clear_output(wait=True)\n",
    "    print(f'Sent message {(i+1):03d}: \\n{json.dumps(msg, indent=2)}')\n",
    "    time.sleep(1)\n",
    "    "
   ]
  },
  {
   "cell_type": "code",
   "execution_count": null,
   "metadata": {},
   "outputs": [],
   "source": []
  }
 ],
 "metadata": {
  "kernelspec": {
   "display_name": "Python 3",
   "language": "python",
   "name": "python3"
  },
  "language_info": {
   "codemirror_mode": {
    "name": "ipython",
    "version": 3
   },
   "file_extension": ".py",
   "mimetype": "text/x-python",
   "name": "python",
   "nbconvert_exporter": "python",
   "pygments_lexer": "ipython3",
   "version": "3.7.3"
  }
 },
 "nbformat": 4,
 "nbformat_minor": 4
}
